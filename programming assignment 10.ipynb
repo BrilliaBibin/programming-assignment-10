{
 "cells": [
  {
   "cell_type": "raw",
   "id": "3534c2a5-f475-4ab9-98f0-e413ec5fdb25",
   "metadata": {},
   "source": [
    "1. Write a Python program to find sum of elements in list?"
   ]
  },
  {
   "cell_type": "code",
   "execution_count": 7,
   "id": "95605ea7-efda-4635-b361-01840475202e",
   "metadata": {},
   "outputs": [
    {
     "name": "stdout",
     "output_type": "stream",
     "text": [
      "sum of elements in the list is: 1158\n"
     ]
    }
   ],
   "source": [
    "l=[123,234,345,456]\n",
    "d=sum(l)\n",
    "print(\"sum of elements in the list is:\", d)"
   ]
  },
  {
   "cell_type": "raw",
   "id": "ac2e4736-700c-47b3-8c29-8d9572c109c3",
   "metadata": {},
   "source": [
    "2. Write a Python program to Multiply all numbers in the list?"
   ]
  },
  {
   "cell_type": "code",
   "execution_count": 1,
   "id": "515576ea-4d9a-4622-916f-73857b2763ce",
   "metadata": {},
   "outputs": [
    {
     "name": "stdout",
     "output_type": "stream",
     "text": [
      "-336\n"
     ]
    }
   ],
   "source": [
    "def multiply(numbers):  \n",
    "    total = 1\n",
    "    for x in numbers:\n",
    "        total *= x  \n",
    "    return total  \n",
    "print(multiply((8, 2, 3, -1, 7)))"
   ]
  },
  {
   "cell_type": "raw",
   "id": "3be9938b-82b9-4760-9344-327d34dee9d2",
   "metadata": {},
   "source": [
    "3. Write a Python program to find smallest number in a list?"
   ]
  },
  {
   "cell_type": "code",
   "execution_count": 7,
   "id": "9c16654a-127f-4480-a205-85f494c05edd",
   "metadata": {},
   "outputs": [
    {
     "name": "stdout",
     "output_type": "stream",
     "text": [
      "smallest number in a list is: 11\n"
     ]
    }
   ],
   "source": [
    "a=[12,13,14,15,16,11]\n",
    "smallest_number=min(a)\n",
    "print(\"smallest number in a list is:\", smallest_number)"
   ]
  },
  {
   "cell_type": "raw",
   "id": "ad24a75b-9986-47ae-aa53-b014274f8773",
   "metadata": {},
   "source": [
    "4. Write a Python program to find largest number in a list?"
   ]
  },
  {
   "cell_type": "code",
   "execution_count": 9,
   "id": "11b502d0-e4bb-4b23-9784-76718862d69e",
   "metadata": {},
   "outputs": [
    {
     "name": "stdout",
     "output_type": "stream",
     "text": [
      "Largest number in a list is: 16\n"
     ]
    }
   ],
   "source": [
    "a=[12,13,14,15,16,11]\n",
    "largest_number=max(a)\n",
    "print(\"Largest number in a list is:\", largest_number)"
   ]
  },
  {
   "cell_type": "raw",
   "id": "97db1465-d0e9-4545-b778-50c8e3847115",
   "metadata": {},
   "source": [
    "5. Write a Python program to find second largest number in a list?"
   ]
  },
  {
   "cell_type": "code",
   "execution_count": 12,
   "id": "ba3e23af-94d3-4163-ae98-9d1c6c46ac7e",
   "metadata": {},
   "outputs": [
    {
     "name": "stdout",
     "output_type": "stream",
     "text": [
      "second largest number in a list is: 15\n"
     ]
    }
   ],
   "source": [
    "a=[12,13,14,15,16,11]\n",
    "a.sort()\n",
    "\n",
    "print(\"second largest number in a list is:\",a[-2])"
   ]
  },
  {
   "cell_type": "raw",
   "id": "e1803708-1df9-4328-8880-4984b754b5ee",
   "metadata": {},
   "source": [
    "6. Write a Python program to find N largest elements from a list?"
   ]
  },
  {
   "cell_type": "code",
   "execution_count": 17,
   "id": "5bbed5b1-f7cb-4163-887c-bfcf212bb531",
   "metadata": {},
   "outputs": [
    {
     "name": "stdout",
     "output_type": "stream",
     "text": [
      "List = [123, 234, 345, 125, 678, 456]\n",
      "N largest element from the list is: [234, 345, 456, 678]\n"
     ]
    }
   ],
   "source": [
    "myList=[123,234,345,125,678,456]\n",
    "print(\"List =\",myList)\n",
    "n=4\n",
    "myList.sort()\n",
    "print(\"N largest element from the list is:\", myList[-n:])\n"
   ]
  },
  {
   "cell_type": "raw",
   "id": "abed8bba-b8f0-4a1e-bac9-847f9166a5e4",
   "metadata": {},
   "source": [
    "7. Write a Python program to print even numbers in a list?"
   ]
  },
  {
   "cell_type": "code",
   "execution_count": 3,
   "id": "acf59ab2-7ccc-49f0-8847-ed49f528f727",
   "metadata": {},
   "outputs": [
    {
     "name": "stdout",
     "output_type": "stream",
     "text": [
      "12 16 18 2 6 "
     ]
    }
   ],
   "source": [
    "l=[12,13,1,15,16,17,18,2,3,6]\n",
    "for i in l:\n",
    "    if i % 2 == 0:\n",
    "        print(i, end = \" \")\n"
   ]
  },
  {
   "cell_type": "raw",
   "id": "549329f6-8b14-43d9-b21e-d5d6002ad298",
   "metadata": {},
   "source": [
    "8. Write a Python program to print odd numbers in a List?"
   ]
  },
  {
   "cell_type": "code",
   "execution_count": 4,
   "id": "57087b22-ac4a-4347-a3e4-2913c87140d6",
   "metadata": {},
   "outputs": [
    {
     "name": "stdout",
     "output_type": "stream",
     "text": [
      "13 1 15 17 3 "
     ]
    }
   ],
   "source": [
    "l=[12,13,1,15,16,17,18,2,3,6]\n",
    "for i in l:\n",
    "    if i % 2 != 0:\n",
    "        print(i, end = \" \")\n"
   ]
  },
  {
   "cell_type": "raw",
   "id": "2bf7f2ad-2f10-4453-b0a3-5dc02a57169f",
   "metadata": {},
   "source": [
    "9. Write a Python program to Remove empty List from List?"
   ]
  },
  {
   "cell_type": "code",
   "execution_count": 7,
   "id": "1176a0a3-5e6e-437f-bb03-92cfaec52823",
   "metadata": {},
   "outputs": [
    {
     "name": "stdout",
     "output_type": "stream",
     "text": [
      "List =  [[5], [54, 545, 9], [], [1, 4, 7], [], [8, 2, 5]]\n",
      "List without empty list:  [[5], [54, 545, 9], [1, 4, 7], [8, 2, 5]]\n"
     ]
    }
   ],
   "source": [
    "List = [[5], [54, 545,9], [], [1, 4, 7], [], [8, 2, 5] ]\n",
    "\n",
    "print(\"List = \", end = \" \")\n",
    "print(List)\n",
    "\n",
    "nonEmptyList = [] \n",
    "nonEmptyList = list(filter(None,List))\n",
    "\n",
    "print(\"List without empty list: \", end = \" \" )\n",
    "print(nonEmptyList)\n"
   ]
  },
  {
   "cell_type": "raw",
   "id": "a0b2426c-b217-4860-b5e3-46b5831c2cf9",
   "metadata": {},
   "source": [
    "10. Write a Python program to Cloning or Copying a list?"
   ]
  },
  {
   "cell_type": "code",
   "execution_count": 8,
   "id": "3d00d602-df18-48b5-97f3-d0421c316c02",
   "metadata": {},
   "outputs": [
    {
     "name": "stdout",
     "output_type": "stream",
     "text": [
      "[10, 22, 44, 23, 4]\n",
      "[10, 22, 44, 23, 4]\n"
     ]
    }
   ],
   "source": [
    "original_list = [10, 22, 44, 23, 4]\n",
    "new_list = list(original_list)\n",
    "print(original_list)\n",
    "print(new_list)\n"
   ]
  },
  {
   "cell_type": "raw",
   "id": "eed896ce-7cc3-4e8a-b15a-1679f86878bc",
   "metadata": {},
   "source": [
    "11. Write a Python program to Count occurrences of an element in a list?"
   ]
  },
  {
   "cell_type": "code",
   "execution_count": 9,
   "id": "be91a549-7a7b-41d2-bff4-b75ea55830cb",
   "metadata": {},
   "outputs": [
    {
     "name": "stdout",
     "output_type": "stream",
     "text": [
      "3\n"
     ]
    }
   ],
   "source": [
    "freq = ['a', 1, 'a', 4, 3, 2, 'a'].count('a')\n",
    "print(freq)"
   ]
  }
 ],
 "metadata": {
  "kernelspec": {
   "display_name": "Python 3 (ipykernel)",
   "language": "python",
   "name": "python3"
  },
  "language_info": {
   "codemirror_mode": {
    "name": "ipython",
    "version": 3
   },
   "file_extension": ".py",
   "mimetype": "text/x-python",
   "name": "python",
   "nbconvert_exporter": "python",
   "pygments_lexer": "ipython3",
   "version": "3.10.6"
  }
 },
 "nbformat": 4,
 "nbformat_minor": 5
}
